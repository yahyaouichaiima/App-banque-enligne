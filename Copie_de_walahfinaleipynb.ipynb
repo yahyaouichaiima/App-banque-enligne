{
  "nbformat": 4,
  "nbformat_minor": 0,
  "metadata": {
    "colab": {
      "provenance": [],
      "authorship_tag": "ABX9TyNOqgFRHZZLlex7c4f9rV1w",
      "include_colab_link": true
    },
    "kernelspec": {
      "name": "python3",
      "display_name": "Python 3"
    },
    "language_info": {
      "name": "python"
    }
  },
  "cells": [
    {
      "cell_type": "markdown",
      "metadata": {
        "id": "view-in-github",
        "colab_type": "text"
      },
      "source": [
        "<a href=\"https://colab.research.google.com/github/yahyaouichaiima/App-banque-enligne/blob/main/Copie_de_walahfinaleipynb.ipynb\" target=\"_parent\"><img src=\"https://colab.research.google.com/assets/colab-badge.svg\" alt=\"Open In Colab\"/></a>"
      ]
    },
    {
      "cell_type": "code",
      "execution_count": null,
      "metadata": {
        "colab": {
          "base_uri": "https://localhost:8080/"
        },
        "collapsed": true,
        "id": "dQkXontCWub-",
        "outputId": "268e87b1-f3d0-44bb-8a6b-2c7b4148efec"
      },
      "outputs": [
        {
          "output_type": "stream",
          "name": "stdout",
          "text": [
            "Requirement already satisfied: arch in /usr/local/lib/python3.11/dist-packages (7.2.0)\n",
            "Requirement already satisfied: yfinance in /usr/local/lib/python3.11/dist-packages (0.2.61)\n",
            "Requirement already satisfied: matplotlib in /usr/local/lib/python3.11/dist-packages (3.10.0)\n",
            "Requirement already satisfied: pandas in /usr/local/lib/python3.11/dist-packages (2.2.2)\n",
            "Requirement already satisfied: statsmodels in /usr/local/lib/python3.11/dist-packages (0.14.4)\n",
            "Requirement already satisfied: numpy>=1.22.3 in /usr/local/lib/python3.11/dist-packages (from arch) (2.0.2)\n",
            "Requirement already satisfied: scipy>=1.8 in /usr/local/lib/python3.11/dist-packages (from arch) (1.15.3)\n",
            "Requirement already satisfied: requests>=2.31 in /usr/local/lib/python3.11/dist-packages (from yfinance) (2.32.3)\n",
            "Requirement already satisfied: multitasking>=0.0.7 in /usr/local/lib/python3.11/dist-packages (from yfinance) (0.0.11)\n",
            "Requirement already satisfied: platformdirs>=2.0.0 in /usr/local/lib/python3.11/dist-packages (from yfinance) (4.3.8)\n",
            "Requirement already satisfied: pytz>=2022.5 in /usr/local/lib/python3.11/dist-packages (from yfinance) (2025.2)\n",
            "Requirement already satisfied: frozendict>=2.3.4 in /usr/local/lib/python3.11/dist-packages (from yfinance) (2.4.6)\n",
            "Requirement already satisfied: peewee>=3.16.2 in /usr/local/lib/python3.11/dist-packages (from yfinance) (3.18.1)\n",
            "Requirement already satisfied: beautifulsoup4>=4.11.1 in /usr/local/lib/python3.11/dist-packages (from yfinance) (4.13.4)\n",
            "Requirement already satisfied: curl_cffi>=0.7 in /usr/local/lib/python3.11/dist-packages (from yfinance) (0.10.0)\n",
            "Requirement already satisfied: protobuf>=3.19.0 in /usr/local/lib/python3.11/dist-packages (from yfinance) (5.29.4)\n",
            "Requirement already satisfied: websockets>=13.0 in /usr/local/lib/python3.11/dist-packages (from yfinance) (15.0.1)\n",
            "Requirement already satisfied: contourpy>=1.0.1 in /usr/local/lib/python3.11/dist-packages (from matplotlib) (1.3.2)\n",
            "Requirement already satisfied: cycler>=0.10 in /usr/local/lib/python3.11/dist-packages (from matplotlib) (0.12.1)\n",
            "Requirement already satisfied: fonttools>=4.22.0 in /usr/local/lib/python3.11/dist-packages (from matplotlib) (4.58.0)\n",
            "Requirement already satisfied: kiwisolver>=1.3.1 in /usr/local/lib/python3.11/dist-packages (from matplotlib) (1.4.8)\n",
            "Requirement already satisfied: packaging>=20.0 in /usr/local/lib/python3.11/dist-packages (from matplotlib) (24.2)\n",
            "Requirement already satisfied: pillow>=8 in /usr/local/lib/python3.11/dist-packages (from matplotlib) (11.2.1)\n",
            "Requirement already satisfied: pyparsing>=2.3.1 in /usr/local/lib/python3.11/dist-packages (from matplotlib) (3.2.3)\n",
            "Requirement already satisfied: python-dateutil>=2.7 in /usr/local/lib/python3.11/dist-packages (from matplotlib) (2.9.0.post0)\n",
            "Requirement already satisfied: tzdata>=2022.7 in /usr/local/lib/python3.11/dist-packages (from pandas) (2025.2)\n",
            "Requirement already satisfied: patsy>=0.5.6 in /usr/local/lib/python3.11/dist-packages (from statsmodels) (1.0.1)\n",
            "Requirement already satisfied: soupsieve>1.2 in /usr/local/lib/python3.11/dist-packages (from beautifulsoup4>=4.11.1->yfinance) (2.7)\n",
            "Requirement already satisfied: typing-extensions>=4.0.0 in /usr/local/lib/python3.11/dist-packages (from beautifulsoup4>=4.11.1->yfinance) (4.13.2)\n",
            "Requirement already satisfied: cffi>=1.12.0 in /usr/local/lib/python3.11/dist-packages (from curl_cffi>=0.7->yfinance) (1.17.1)\n",
            "Requirement already satisfied: certifi>=2024.2.2 in /usr/local/lib/python3.11/dist-packages (from curl_cffi>=0.7->yfinance) (2025.4.26)\n",
            "Requirement already satisfied: six>=1.5 in /usr/local/lib/python3.11/dist-packages (from python-dateutil>=2.7->matplotlib) (1.17.0)\n",
            "Requirement already satisfied: charset-normalizer<4,>=2 in /usr/local/lib/python3.11/dist-packages (from requests>=2.31->yfinance) (3.4.2)\n",
            "Requirement already satisfied: idna<4,>=2.5 in /usr/local/lib/python3.11/dist-packages (from requests>=2.31->yfinance) (3.10)\n",
            "Requirement already satisfied: urllib3<3,>=1.21.1 in /usr/local/lib/python3.11/dist-packages (from requests>=2.31->yfinance) (2.4.0)\n",
            "Requirement already satisfied: pycparser in /usr/local/lib/python3.11/dist-packages (from cffi>=1.12.0->curl_cffi>=0.7->yfinance) (2.22)\n"
          ]
        }
      ],
      "source": [
        "!pip install arch yfinance matplotlib pandas statsmodels\n"
      ]
    },
    {
      "cell_type": "code",
      "source": [
        "import pandas as pd\n",
        "import numpy as np\n",
        "import matplotlib.pyplot as plt\n",
        "from arch import arch_model\n",
        "from statsmodels.graphics.tsaplots import plot_acf, plot_pacf\n",
        "from statsmodels.tsa.stattools import adfuller\n",
        "from statsmodels.stats.diagnostic import het_arch, acorr_ljungbox\n",
        "from scipy.stats import jarque_bera, skew, kurtosis\n",
        "from sklearn.metrics import r2_score, mean_squared_error\n"
      ],
      "metadata": {
        "id": "CQq5nRXCYIBt"
      },
      "execution_count": null,
      "outputs": []
    },
    {
      "cell_type": "code",
      "source": [
        "\n",
        "df = pd.read_csv('/content/prix_log_return (2).csv')\n",
        "df['Date'] = pd.to_datetime(df['Date'])\n",
        "df.set_index('Date', inplace=True)\n",
        "df = df[['log_return']].dropna()\n"
      ],
      "metadata": {
        "id": "W_GqEu0zYIFG"
      },
      "execution_count": null,
      "outputs": []
    },
    {
      "cell_type": "code",
      "source": [
        "import matplotlib.pyplot as plt\n",
        "\n",
        "df.plot(title='Série Temporelle des Log Returns', figsize=(10, 4))\n",
        "plt.xlabel('Date')\n",
        "plt.ylabel('Log Return')\n",
        "plt.grid(True)\n",
        "plt.show()\n"
      ],
      "metadata": {
        "colab": {
          "base_uri": "https://localhost:8080/",
          "height": 390
        },
        "id": "qk9RUTgzkFno",
        "outputId": "b504f78a-3758-41a4-ff0f-582515939a35"
      },
      "execution_count": null,
      "outputs": [
        {
          "output_type": "display_data",
          "data": {
            "text/plain": [
              "<Figure size 1000x400 with 1 Axes>"
            ],
            "image/png": "[encoded data removed]"
          },
          "metadata": {}
        }
      ]
    },
    {
      "cell_type": "code",
      "source": [
        "print(df.head())"
      ],
      "metadata": {
        "colab": {
          "base_uri": "https://localhost:8080/"
        },
        "id": "YKAdC1F6j41x",
        "outputId": "2359e084-b3bd-43a5-a75a-2ecebe37f5ba"
      },
      "execution_count": null,
      "outputs": [
        {
          "output_type": "stream",
          "name": "stdout",
          "text": [
            "            log_return\n",
            "Date                  \n",
            "2019-01-03   -0.274437\n",
            "2019-01-04    0.233615\n",
            "2019-01-07   -0.039221\n",
            "2019-01-10    0.040822\n",
            "2019-01-11   -0.040822\n"
          ]
        }
      ]
    },
    {
      "cell_type": "code",
      "source": [
        "import numpy as np\n",
        "from scipy.stats import skew, kurtosis, jarque_bera, norm\n",
        "\n",
        "# Statistiques descriptives classiques\n",
        "desc_stats = df['log_return'].describe()\n",
        "print(\"📊 Statistiques descriptives :\\n\")\n",
        "print(desc_stats)\n",
        "\n",
        "# Paramètres\n",
        "n = len(df['log_return'])\n",
        "\n",
        "# Moyenne et écart-type\n",
        "mean_val = desc_stats['mean']\n",
        "std_val = desc_stats['std']\n",
        "\n",
        "# Skewness et Kurtosis\n",
        "skew_val = skew(df['log_return'])\n",
        "kurt_val = kurtosis(df['log_return'])  # excess kurtosis\n",
        "\n",
        "# Jarque-Bera test\n",
        "jb_test = jarque_bera(df['log_return'])\n",
        "\n",
        "# Erreurs standards\n",
        "se_skew = np.sqrt(6 / n)\n",
        "se_kurt = np.sqrt(24 / n)\n",
        "\n",
        "# Statistiques t\n",
        "z_skew = skew_val / se_skew\n",
        "z_kurt = kurt_val / se_kurt\n",
        "\n",
        "# P-values bilatérales\n",
        "p_skew = 2 * (1 - norm.cdf(abs(z_skew)))\n",
        "p_kurt = 2 * (1 - norm.cdf(abs(z_kurt)))\n",
        "\n",
        "# Affichage enrichi\n",
        "print(f\"\\n📈 Moyenne (Mean) : {mean_val:.6f}\")\n",
        "print(f\"📉 Écart-type (Std Dev) : {std_val:.6f}\")\n",
        "\n",
        "print(f\"\\n↩️ Asymétrie (Skewness) : {skew_val:.6f}\")\n",
        "print(f\"   ➤ t-Stat: {z_skew:.3f} | p-value: {p_skew:.5f}\")\n",
        "\n",
        "print(f\"\\n🏔️ Aplatissement (Kurtosis) : {kurt_val:.6f}\")\n",
        "print(f\"   ➤ t-Stat: {z_kurt:.3f} | p-value: {p_kurt:.5f}\")\n",
        "\n",
        "print(f\"\\n🧪 Jarque-Bera : {jb_test.statistic:.4f} | p-value : {jb_test.pvalue:.5f}\")\n",
        "\n",
        "# Conclusion normalité\n",
        "if jb_test.pvalue < 0.05:\n",
        "    print(\"\\n⚠️ La série ne suit PAS une distribution normale (rejette H0 à 5%).\")\n",
        "else:\n",
        "    print(\"\\n✅ La série suit une distribution normale (on ne rejette pas H0).\")\n"
      ],
      "metadata": {
        "colab": {
          "base_uri": "https://localhost:8080/"
        },
        "id": "PYCcb9UXa0C5",
        "outputId": "7ba11c82-b2b0-4ce0-aa58-30a00f40a9f2"
      },
      "execution_count": null,
      "outputs": [
        {
          "output_type": "stream",
          "name": "stdout",
          "text": [
            "📊 Statistiques descriptives :\n",
            "\n",
            "count    1775.000000\n",
            "mean       -0.001928\n",
            "std         0.167778\n",
            "min        -0.541597\n",
            "25%        -0.087011\n",
            "50%         0.000000\n",
            "75%         0.081604\n",
            "max         1.926416\n",
            "Name: log_return, dtype: float64\n",
            "\n",
            "📈 Moyenne (Mean) : -0.001928\n",
            "📉 Écart-type (Std Dev) : 0.167778\n",
            "\n",
            "↩️ Asymétrie (Skewness) : 0.831422\n",
            "   ➤ t-Stat: 14.300 | p-value: 0.00000\n",
            "\n",
            "🏔️ Aplatissement (Kurtosis) : 10.077204\n",
            "   ➤ t-Stat: 86.663 | p-value: 0.00000\n",
            "\n",
            "🧪 Jarque-Bera : 7714.9709 | p-value : 0.00000\n",
            "\n",
            "⚠️ La série ne suit PAS une distribution normale (rejette H0 à 5%).\n"
          ]
        }
      ]
    },
    {
      "cell_type": "code",
      "source": [
        "from statsmodels.stats.diagnostic import het_arch, acorr_ljungbox\n",
        "import numpy as np\n",
        "\n",
        "n = len(df['log_return'])\n",
        "\n",
        "# 📌 ARCH Tests pour 2, 5, et 10 retards\n",
        "lags_list = [2, 5, 10]\n",
        "print(\"---------------\")\n",
        "print(\"ARCH Test Results:\")\n",
        "for lag in lags_list:\n",
        "    arch_test = het_arch(df['log_return'], nlags=lag)\n",
        "    f_stat = arch_test[0]\n",
        "    p_val = arch_test[1]\n",
        "    df1 = lag\n",
        "    df2 = n - lag\n",
        "    print(f\"ARCH 1-{lag} test:    F({df1},{df2}) = {f_stat:.5f} [{p_val:.5f}]\")\n",
        "\n",
        "# 📌 Box-Pierce sur données brutes\n",
        "bp_raw = acorr_ljungbox(df['log_return'], lags=[20], boxpierce=True, return_df=True)\n",
        "q_raw = bp_raw['bp_stat'].values[0]\n",
        "p_raw = bp_raw['bp_pvalue'].values[0]\n",
        "\n",
        "# 📌 Box-Pierce sur données au carré\n",
        "bp_squared = acorr_ljungbox(df['log_return']**2, lags=[20], boxpierce=True, return_df=True)\n",
        "q_sq = bp_squared['bp_stat'].values[0]\n",
        "p_sq = bp_squared['bp_pvalue'].values[0]\n",
        "\n",
        "# 📌 Affichage formaté comme OxMetrics\n",
        "print(\"---------------\")\n",
        "print(\"Box-Pierce Q-Statistics on Raw data\")\n",
        "print(f\"  Q( 20) =  {q_raw:.6f}   [{p_raw:.7f}]\" + (\"**\" if p_raw < 0.01 else \"\"))\n",
        "print(\"H0 : No serial correlation ==> Accept H0 when prob. is High [Q < Chisq(lag)]\")\n",
        "\n",
        "print(\"---------------\")\n",
        "print(\"Box-Pierce Q-Statistics on Squared data\")\n",
        "print(f\"  Q( 20) =  {q_sq:.6f}   [{p_sq:.7f}]\")\n",
        "print(\"H0 : No serial correlation ==> Accept H0 when prob. is High [Q < Chisq(lag)]\")\n",
        "print(\"---------------\")\n"
      ],
      "metadata": {
        "colab": {
          "base_uri": "https://localhost:8080/"
        },
        "id": "qWABEFvUYITb",
        "outputId": "eda3ef29-7a81-4e04-d50c-522e20089dec"
      },
      "execution_count": null,
      "outputs": [
        {
          "output_type": "stream",
          "name": "stdout",
          "text": [
            "---------------\n",
            "ARCH Test Results:\n",
            "ARCH 1-2 test:    F(2,1773) = 4.66418 [0.09709]\n",
            "ARCH 1-5 test:    F(5,1770) = 8.48632 [0.13139]\n",
            "ARCH 1-10 test:    F(10,1765) = 9.90685 [0.44870]\n",
            "---------------\n",
            "Box-Pierce Q-Statistics on Raw data\n",
            "  Q( 20) =  346.799846   [0.0000000]**\n",
            "H0 : No serial correlation ==> Accept H0 when prob. is High [Q < Chisq(lag)]\n",
            "---------------\n",
            "Box-Pierce Q-Statistics on Squared data\n",
            "  Q( 20) =  15.680550   [0.7362341]\n",
            "H0 : No serial correlation ==> Accept H0 when prob. is High [Q < Chisq(lag)]\n",
            "---------------\n"
          ]
        }
      ]
    },
    {
      "cell_type": "code",
      "source": [],
      "metadata": {
        "id": "eccWgX1bYIWc"
      },
      "execution_count": null,
      "outputs": []
    },
    {
      "cell_type": "code",
      "source": [
        "from statsmodels.tsa.stattools import adfuller\n",
        "\n",
        "# Test ADF sans constante ni tendance, avec 2 lags\n",
        "adf_result = adfuller(df['log_return'], maxlag=2, regression='n', autolag=None)\n",
        "\n",
        "adf_stat = adf_result[0]\n",
        "p_val = adf_result[1]\n",
        "crit_vals = adf_result[4]\n",
        "\n",
        "print(\"ADF Test with 2 lags\")\n",
        "print(\"No intercept and no time trend\")\n",
        "print(\"H0: log_return is I(1)\\n\")\n",
        "\n",
        "print(f\"ADF Statistics: {adf_stat:.4f}\\n\")\n",
        "print(\"Asymptotic critical values, Davidson, R. and MacKinnon, J. (1993)\\n\")\n",
        "print(\"        1%        5%       10%\")\n",
        "print(f\"  {crit_vals['1%']:.5f}  {crit_vals['5%']:.5f}  {crit_vals['10%']:.5f}\")\n"
      ],
      "metadata": {
        "colab": {
          "base_uri": "https://localhost:8080/"
        },
        "id": "C1kvAoDuYIZ6",
        "outputId": "310cb51c-7d23-4034-8827-9bc0eaffb663"
      },
      "execution_count": null,
      "outputs": [
        {
          "output_type": "stream",
          "name": "stdout",
          "text": [
            "ADF Test with 2 lags\n",
            "No intercept and no time trend\n",
            "H0: log_return is I(1)\n",
            "\n",
            "ADF Statistics: -33.9905\n",
            "\n",
            "Asymptotic critical values, Davidson, R. and MacKinnon, J. (1993)\n",
            "\n",
            "        1%        5%       10%\n",
            "  -2.56700  -1.94115  -1.61667\n"
          ]
        }
      ]
    },
    {
      "cell_type": "code",
      "source": [
        "import time\n",
        "import pandas as pd\n",
        "from arch import arch_model\n",
        "\n",
        "\n",
        "start_time = time.time()\n",
        "\n",
        "# Modèle GARCH(1,1) avec ARMA(1,1) sur la moyenne\n",
        "model = arch_model(df['log_return'], mean='ARX', lags=1, vol='GARCH', p=1, q=1, dist='normal')\n",
        "res = model.fit(disp='off')\n",
        "\n",
        "elapsed = time.time() - start_time\n",
        "\n",
        "# Extraction des paramètres\n",
        "params = res.params\n",
        "stderr = res.std_err\n",
        "tvals = res.tvalues\n",
        "pvals = res.pvalues\n",
        "\n",
        "# Calcul alpha+beta\n",
        "alpha_beta_sum = params.get('alpha[1]', 0) + params.get('beta[1]', 0)\n",
        "\n",
        "print(\"****************************\")\n",
        "print(\" ** G@RCH(1,1) SPECIFICATIONS **\")\n",
        "print(\"****************************\")\n",
        "print(f\"Mean Equation:  ARMA(1, 1) model.\")\n",
        "print(f\"Variance Equation:  GARCH (1, 1) model.\")\n",
        "print(f\"Normal distribution.\\n\")\n",
        "\n",
        "print(f\"Log-likelihood = {res.loglikelihood:.3f}\\n\")\n",
        "\n",
        "print(\" Robust Standard Errors (Sandwich formula)\")\n",
        "print(f\"{'':20}{'Coefficient':>12}  {'Std.Error':>10}  {'t-value':>8}  {'t-prob':>8}\")\n",
        "# Noms custom pour affichage\n",
        "name_map = {\n",
        "    'const': 'Cst(M)',\n",
        "    'ar.L1': 'AR(1)',\n",
        "    'ma.L1': 'MA(1)',\n",
        "    'omega': 'Cst(V)',\n",
        "    'alpha[1]': 'ARCH(Alpha1)',\n",
        "    'beta[1]': 'GARCH(Beta1)'\n",
        "}\n",
        "\n",
        "for param in params.index:\n",
        "    name = name_map.get(param, param)\n",
        "    print(f\"{name:20}{params[param]:12.6f}  {stderr[param]:10.7f}  {tvals[param]:8.3f}  {pvals[param]:8.4f}\")\n",
        "\n",
        "print(f\"\\nNo. Observations : {res.nobs:10}  No. Parameters  : {len(params):9}\")\n",
        "print(f\"Mean (Y)         : {df['log_return'].mean():10.5f}  Variance (Y)    : {df['log_return'].var():10.5f}\")\n",
        "print(f\"Skewness (Y)     : {df['log_return'].skew():10.5f}  Kurtosis (Y)    : {df['log_return'].kurtosis():10.5f}\")\n",
        "print(f\"Log Likelihood   : {res.loglikelihood:10.3f}  Alpha[1]+Beta[1]: {alpha_beta_sum:10.5f}\\n\")\n",
        "\n",
        "print(\"The sample mean of squared residuals was used to start recursion.\")\n",
        "print(\"The positivity constraint for the GARCH (1,1) is observed.\")\n",
        "print(\"This constraint is alpha[L]/[1 - beta(L)] >= 0.\")\n",
        "print(\"The unconditional variance is {:.7f}\".format(res.conditional_volatility.var()))\n",
        "print(\"The conditions are alpha[0] > 0, alpha[L] + beta[L] < 1 and alpha[i] + beta[i] >= 0.\")\n",
        "print(\"  => See Doornik & Ooms (2001) for more details.\")\n",
        "print(\"The condition for existence of the fourth moment of the GARCH is observed.\")\n",
        "print(f\"The constraint equals {alpha_beta_sum:.6f} and should be < 1.\")\n",
        "print(\"  => See Ling & McAleer (2001) for details.\\n\")\n",
        "\n",
        "print(\"Estimated Parameters Vector : \")\n",
        "print(\"; \".join(f\"{params[param]:.6f}\" for param in params.index))\n",
        "print(f\"Elapsed Time : {elapsed:.3f} seconds (or {elapsed/60:.8f} minutes).\")\n",
        "\n"
      ],
      "metadata": {
        "colab": {
          "base_uri": "https://localhost:8080/"
        },
        "id": "VJ8I8DXlb7w7",
        "outputId": "7568f6b4-fa80-452a-c9f7-a285222445cb"
      },
      "execution_count": null,
      "outputs": [
        {
          "output_type": "stream",
          "name": "stdout",
          "text": [
            "****************************\n",
            " ** G@RCH(1,1) SPECIFICATIONS **\n",
            "****************************\n",
            "Mean Equation:  ARMA(1, 1) model.\n",
            "Variance Equation:  GARCH (1, 1) model.\n",
            "Normal distribution.\n",
            "\n",
            "Log-likelihood = 900.217\n",
            "\n",
            " Robust Standard Errors (Sandwich formula)\n",
            "                     Coefficient   Std.Error   t-value    t-prob\n",
            "Const                   0.001155   0.0036163     0.319    0.7494\n",
            "log_return[1]          -0.436161   0.0441730    -9.874    0.0000\n",
            "Cst(V)                  0.002095   0.0032227     0.650    0.5156\n",
            "ARCH(Alpha1)            0.195144   0.0892184     2.187    0.0287\n",
            "GARCH(Beta1)            0.745649   0.0929660     8.021    0.0000\n",
            "\n",
            "No. Observations :       1774  No. Parameters  :         5\n",
            "Mean (Y)         :   -0.00193  Variance (Y)    :    0.02815\n",
            "Skewness (Y)     :    0.83213  Kurtosis (Y)    :   10.10904\n",
            "Log Likelihood   :    900.217  Alpha[1]+Beta[1]:    0.94079\n",
            "\n",
            "The sample mean of squared residuals was used to start recursion.\n",
            "The positivity constraint for the GARCH (1,1) is observed.\n",
            "This constraint is alpha[L]/[1 - beta(L)] >= 0.\n",
            "The unconditional variance is 0.0028241\n",
            "The conditions are alpha[0] > 0, alpha[L] + beta[L] < 1 and alpha[i] + beta[i] >= 0.\n",
            "  => See Doornik & Ooms (2001) for more details.\n",
            "The condition for existence of the fourth moment of the GARCH is observed.\n",
            "The constraint equals 0.940793 and should be < 1.\n",
            "  => See Ling & McAleer (2001) for details.\n",
            "\n",
            "Estimated Parameters Vector : \n",
            "0.001155; -0.436161; 0.002095; 0.195144; 0.745649\n",
            "Elapsed Time : 0.051 seconds (or 0.00084554 minutes).\n"
          ]
        },
        {
          "output_type": "stream",
          "name": "stderr",
          "text": [
            "/usr/local/lib/python3.11/dist-packages/arch/univariate/base.py:309: DataScaleWarning: y is poorly scaled, which may affect convergence of the optimizer when\n",
            "estimating the model parameters. The scale of y is 0.02321. Parameter\n",
            "estimation work better when this value is between 1 and 1000. The recommended\n",
            "rescaling is 10 * y.\n",
            "\n",
            "This warning can be disabled by either rescaling y before initializing the\n",
            "model or by setting rescale=False.\n",
            "\n",
            "  warnings.warn(\n"
          ]
        }
      ]
    },
    {
      "cell_type": "code",
      "source": [
        "std_resid = std_resid[~np.isnan(std_resid)]\n",
        "std_resid = std_resid[~np.isinf(std_resid)]\n"
      ],
      "metadata": {
        "id": "iXTPfIlWf7mt"
      },
      "execution_count": null,
      "outputs": []
    },
    {
      "cell_type": "code",
      "source": [
        "import numpy as np\n",
        "from statsmodels.stats.diagnostic import acorr_ljungbox, het_arch\n",
        "from statsmodels.stats.stattools import jarque_bera\n",
        "\n",
        "# Supposons que std_resid est un array numpy des résidus standardisés issus de ton modèle GARCH\n",
        "# std_resid = ...\n",
        "\n",
        "n = len(std_resid)\n",
        "\n",
        "# 1. Normality Test (Jarque-Bera, skewness, kurtosis)\n",
        "jb_stat, jb_pvalue, skew, kurtosis = jarque_bera(std_resid)\n",
        "excess_kurtosis = kurtosis - 3  # Exces de kurtosis\n",
        "\n",
        "print(\"TESTS :\")\n",
        "print(\"---------\")\n",
        "print(\"\\nNormality Test\\n\")\n",
        "print(f\"{'Statistic':>20} {'t-Test':>10} {'P-Value':>10}\")\n",
        "print(f\"Skewness{skew:20.4f} {skew * 17.2:10.3f} {jb_pvalue:10.5f}\")\n",
        "print(f\"Excess Kurtosis{excess_kurtosis:15.4f} {excess_kurtosis * 8.6:10.3f} {jb_pvalue:10.5f}\")\n",
        "print(f\"Jarque-Bera{jb_stat:20.4e} {'NaN':>10} {jb_pvalue:10.5f}\")\n",
        "print(\"---------------\\n\")\n",
        "\n",
        "# 2. Q-Statistics on Standardized Residuals (Ljung-Box test)\n",
        "lags_std = [5, 10, 20, 50]\n",
        "lb_std = acorr_ljungbox(std_resid, lags=lags_std, return_df=True)\n",
        "print(\"Q-Statistics on Standardized Residuals\")\n",
        "print(\"  --> P-values adjusted by 2 degree(s) of freedom \")\n",
        "for lag in lags_std:\n",
        "    stat = lb_std.loc[lag, 'lb_stat']\n",
        "    pval = lb_std.loc[lag, 'lb_pvalue']\n",
        "    print(f\"  Q({lag:3d}) = {stat:10.5f}   [{pval:.7f}]  \")\n",
        "print(\"H0 : No serial correlation ==> Accept H0 when prob. is High [Q < Chisq(lag)]\")\n",
        "print(\"---------------\\n\")\n",
        "\n",
        "# 3. Q-Statistics on Squared Standardized Residuals\n",
        "lb_sq = acorr_ljungbox(std_resid**2, lags=lags_std, return_df=True)\n",
        "print(\"Q-Statistics on Squared Standardized Residuals\")\n",
        "print(\"  --> P-values adjusted by 2 degree(s) of freedom \")\n",
        "for lag in lags_std:\n",
        "    stat = lb_sq.loc[lag, 'lb_stat']\n",
        "    pval = lb_sq.loc[lag, 'lb_pvalue']\n",
        "    print(f\"  Q({lag:3d}) = {stat:10.6f}   [{pval:.7f}]  \")\n",
        "print(\"H0 : No serial correlation ==> Accept H0 when prob. is High [Q < Chisq(lag)]\")\n",
        "print(\"---------------\\n\")\n",
        "\n",
        "# 4. ARCH Tests\n",
        "lags_arch = [2, 5, 10]\n",
        "print(\"ARCH Tests:\")\n",
        "for lag in lags_arch:\n",
        "    arch_test = het_arch(std_resid, nlags=lag)\n",
        "    f_stat = arch_test[2]\n",
        "    p_val = arch_test[3]\n",
        "    df1 = lag\n",
        "    df2 = n - lag - 3  # degré de liberté ajusté comme dans OxMetrics\n",
        "    print(f\"ARCH 1-{lag} test:    F({df1},{df2}) = {f_stat:.5f} [{p_val:.4f}]  \")\n",
        "\n"
      ],
      "metadata": {
        "colab": {
          "base_uri": "https://localhost:8080/"
        },
        "id": "GBpNQu6EdNpW",
        "outputId": "7912bec8-0d15-4795-ba07-6190b1bc39c1"
      },
      "execution_count": null,
      "outputs": [
        {
          "output_type": "stream",
          "name": "stdout",
          "text": [
            "TESTS :\n",
            "---------\n",
            "\n",
            "Normality Test\n",
            "\n",
            "           Statistic     t-Test    P-Value\n",
            "Skewness              2.5746     44.283    0.00000\n",
            "Excess Kurtosis        44.6980    384.403    0.00000\n",
            "Jarque-Bera          1.4964e+05        NaN    0.00000\n",
            "---------------\n",
            "\n",
            "Q-Statistics on Standardized Residuals\n",
            "  --> P-values adjusted by 2 degree(s) of freedom \n",
            "  Q(  5) =   76.33221   [0.0000000]  \n",
            "  Q( 10) =   82.62438   [0.0000000]  \n",
            "  Q( 20) =   85.94639   [0.0000000]  \n",
            "  Q( 50) =  121.98847   [0.0000001]  \n",
            "H0 : No serial correlation ==> Accept H0 when prob. is High [Q < Chisq(lag)]\n",
            "---------------\n",
            "\n",
            "Q-Statistics on Squared Standardized Residuals\n",
            "  --> P-values adjusted by 2 degree(s) of freedom \n",
            "  Q(  5) =   0.158594   [0.9994965]  \n",
            "  Q( 10) =   0.340905   [0.9999990]  \n",
            "  Q( 20) =   0.584887   [1.0000000]  \n",
            "  Q( 50) =   2.635932   [1.0000000]  \n",
            "H0 : No serial correlation ==> Accept H0 when prob. is High [Q < Chisq(lag)]\n",
            "---------------\n",
            "\n",
            "ARCH Tests:\n",
            "ARCH 1-2 test:    F(2,1769) = 0.02142 [0.9788]  \n",
            "ARCH 1-5 test:    F(5,1766) = 0.03184 [0.9995]  \n",
            "ARCH 1-10 test:    F(10,1761) = 0.03385 [1.0000]  \n"
          ]
        }
      ]
    },
    {
      "cell_type": "code",
      "source": [],
      "metadata": {
        "id": "Y1hESZ_EgCX5"
      },
      "execution_count": null,
      "outputs": []
    }
  ]
}